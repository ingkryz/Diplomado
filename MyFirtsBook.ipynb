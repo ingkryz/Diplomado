{
 "cells": [
  {
   "cell_type": "markdown",
   "metadata": {
    "id": "4qS27gt2dNFh"
   },
   "source": [
    "#Hello World\r\n",
    "\r\n",
    "Imagen de prueba antes de [] colocar ! seguido dentro de () la URL de la imagen\r\n",
    "\r\n",
    "![Texto de la imagen](https://codigomaquina.es/wp-content/uploads/hello_world.png) \r\n",
    "\r\n"
   ]
  },
  {
   "cell_type": "code",
   "execution_count": null,
   "metadata": {
    "id": "gy22cT6RgVsK"
   },
   "outputs": [],
   "source": []
  },
  {
   "cell_type": "markdown",
   "metadata": {
    "id": "gO1_PSeej2iz"
   },
   "source": [
    "# Ejemplos de texto\r\n",
    "\r\n",
    "Texto en cursiva dentro de *texto en cursiva*\r\n",
    "\r\n",
    "Texto en negrita **texto en negrita**\r\n",
    "\r\n",
    "Texto en negrita cursiva ***Texto en cursiva***\r\n",
    "\r\n"
   ]
  },
  {
   "cell_type": "markdown",
   "metadata": {
    "id": "7fB_fZ5nlii-"
   },
   "source": [
    "# Formulas en LaTeX\r\n",
    "\r\n",
    "Editor de ecuaciones usado para articulos cientificos.\r\n",
    "\r\n",
    "$y=x^2$\r\n",
    "$$y=x^2$$\r\n",
    "\r\n",
    "$$\\frac{dC}{dt}=kC$$\r\n"
   ]
  },
  {
   "cell_type": "code",
   "execution_count": 2,
   "metadata": {
    "colab": {
     "base_uri": "https://localhost:8080/",
     "height": 129
    },
    "id": "hSNNv-Iykm9X",
    "outputId": "d5fd9a76-1446-4b72-ba2e-c418f98f5bb5"
   },
   "outputs": [
    {
     "name": "stdout",
     "output_type": "stream",
     "text": [
      "Hello friend\n"
     ]
    }
   ],
   "source": [
    "print(\"Hello friend\")\n"
   ]
  }
 ],
 "metadata": {
  "colab": {
   "name": "MyFirtsBook.ipynb",
   "provenance": []
  },
  "kernelspec": {
   "display_name": "Python 3",
   "language": "python",
   "name": "python3"
  },
  "language_info": {
   "codemirror_mode": {
    "name": "ipython",
    "version": 3
   },
   "file_extension": ".py",
   "mimetype": "text/x-python",
   "name": "python",
   "nbconvert_exporter": "python",
   "pygments_lexer": "ipython3",
   "version": "3.8.5"
  }
 },
 "nbformat": 4,
 "nbformat_minor": 4
}
